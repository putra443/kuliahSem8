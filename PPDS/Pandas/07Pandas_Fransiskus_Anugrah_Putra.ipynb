{
  "nbformat": 4,
  "nbformat_minor": 0,
  "metadata": {
    "colab": {
      "provenance": []
    },
    "kernelspec": {
      "name": "python3",
      "display_name": "Python 3"
    }
  },
  "cells": [
    {
      "cell_type": "markdown",
      "metadata": {
        "id": "340uU54metYp"
      },
      "source": [
        "# Pandas \n",
        "\n",
        "Pada modul kali ini, kita akan belajar menggunakan library Pandas untuk melakukan berbagai pengolahan data.\n",
        "\n",
        "**Petunjuk pengerjaan:**\n",
        "\n",
        "*   Buatlah salinan project berikut dengan memilih menu **File - Download**\n",
        "*   Simpanlah file *.ipynb tersebut di Jupyter Notebook kamu. \n",
        "*   Lalu kerjakan latihan-latihan di bawah ini.\n",
        "\n",
        "**Petunjuk pengumpulan:**\n",
        "\n",
        "*   Setelah selesai mengerjakan, uploadlah file *.ipynb tersebut ke e-learning yang digunakan di kelas ATAU simpan di GDrive kamu, lalu kumpulkan link-nya.\n",
        "*   Kamu bertanggung jawab penuh untuk mengumpulkan link project di tugas yang bersesuaian.\n",
        "*   Tidak ada protes untuk nilai yang menjadi nol jika link tidak sesuai dengan slot tugas.\n",
        "\n",
        "Pertama, kita akan membaca sebuah file bertipe *.csv dan menjadikannya dataframe, kemudian menampilkan 5 baris teratas dari dataframe tersebut.\n",
        "\n",
        "Kamu dapat mengunduh file [automobile_data.csv](https://drive.google.com/file/d/1tDQptRRAI0vckBBWHakIAXcKKGsF4x9e/view?usp=sharing) di Google Classroom, kemudian simpan *.csv tersebut di folder Jupyter Notebook kamu. Sesuaikan path read_csv pada program di bawah dengan folder penyimpanan kamu. Perhatikan pada file path, ganti '/' dengan '\\\\' seperti pada contoh di bawah (#1)."
      ]
    },
    {
      "cell_type": "code",
      "metadata": {
        "id": "kC5QkpCVQxxk"
      },
      "source": [
        "#1\n",
        "#Membaca sebuah file bertipe *.csv dan menjadikannya dataframe, kemudian menampilkan 5 baris teratas dari dataframe tersebut\n",
        "import pandas as pd\n",
        "df = pd.read_csv(\"C:\\\\User\\\\Drill\\\\automobile_data.csv\")\n",
        "df.head(5)"
      ],
      "execution_count": null,
      "outputs": []
    },
    {
      "cell_type": "markdown",
      "metadata": {
        "id": "VlCpmrQV6FZg"
      },
      "source": [
        "Coba tampilkan 5 baris terakhir dari dataframe tersebut seperti contoh kode program berikut ini (#2)."
      ]
    },
    {
      "cell_type": "code",
      "metadata": {
        "id": "j7FcRUx3epwm"
      },
      "source": [
        "#2\n",
        "#Menampilkan 5 baris terakhir dari dataframe tersebut\n",
        "import pandas as pd\n",
        "df = pd.read_csv(\"D:\\\\Python\\\\Drill\\\\automobile_data.csv\")\n",
        "df.tail(5)"
      ],
      "execution_count": null,
      "outputs": []
    },
    {
      "cell_type": "markdown",
      "metadata": {
        "id": "Ys9XB9TH6NpL"
      },
      "source": [
        "# Missing Values\n",
        "Untuk menjaga konsistensi representasi data, mari kita ganti nilai yang hilang (missing values) dengan representasi yang sama (NaN) kemudian mengupdate file *.csv-nya (#3)."
      ]
    },
    {
      "cell_type": "code",
      "metadata": {
        "id": "w7gJGs0deu4c"
      },
      "source": [
        "#3\n",
        "#Mengganti missing values dengan NaN\n",
        "df = pd.read_csv(\"D:\\\\Python\\\\Drill\\\\automobile_data.csv\", na_values={\n",
        "'price':[\"?\",\"n.a\"],\n",
        "'stroke':[\"?\",\"n.a\"],\n",
        "'horsepower':[\"?\",\"n.a\"],\n",
        "'peak-rpm':[\"?\",\"n.a\"],\n",
        "'average-mileage':[\"?\",\"n.a\"]})\n",
        "print (df)\n",
        "\n",
        "df.to_csv(\"D:\\\\Python\\\\Drill\\\\automobile_data.csv\")"
      ],
      "execution_count": null,
      "outputs": []
    },
    {
      "cell_type": "markdown",
      "metadata": {
        "id": "YLKITAZ-6n-B"
      },
      "source": [
        "# Filter Data\n",
        "\n",
        "Mari kita tampilkan informasi nama perusahaan dan harga dari mobil termahal pada dataset ini (#4)."
      ]
    },
    {
      "cell_type": "code",
      "metadata": {
        "id": "BbWNmbbse0xQ"
      },
      "source": [
        "#4\n",
        "#Menampilkan informasi nama perusahaan dan harga dari mobil termahal \n",
        "import pandas as pd\n",
        "df = pd.read_csv(\"D:\\\\Python\\\\Drill\\\\automobile_data.csv\")\n",
        "df = df [['company','price']][df.price==df['price'].max()]\n",
        "df"
      ],
      "execution_count": null,
      "outputs": []
    },
    {
      "cell_type": "markdown",
      "metadata": {
        "id": "yzfbt4T27h65"
      },
      "source": [
        "# Mengelompokkan Data\n",
        "\n",
        "Dari data ini, misalnya kita ingin mengelompokkan data berdasarkan nilai dari kolom tertentu, lalu menampilkan data dari kelompok tertentu saja. \n",
        "\n",
        "Perhatikan contoh berikut untuk menampilkan data mobil dari perusahaan Toyota saja (#5)."
      ]
    },
    {
      "cell_type": "code",
      "metadata": {
        "id": "Dj0AncMTe4V9"
      },
      "source": [
        "#5\n",
        "#Menampilkan data mobil Toyota \n",
        "import pandas as pd\n",
        "\n",
        "df = pd.read_csv(\"D:\\\\Python\\\\Drill\\\\automobile_data.csv\")\n",
        "car_Manufacturers = df.groupby('company')\n",
        "toyotaDf = car_Manufacturers.get_group('toyota')\n",
        "toyotaDf"
      ],
      "execution_count": null,
      "outputs": []
    },
    {
      "cell_type": "markdown",
      "metadata": {
        "id": "O8fz2BNw8Os3"
      },
      "source": [
        "# Menghitung Data\n",
        "\n",
        "Berdasarkan kolom nama perusahaan, kita dapat menghitung berapa banyak data yang dikelompokkan berdasarkan nama perusahaan. \n",
        "\n",
        "Lihat contoh program di bawah (#6) untuk memperjelas."
      ]
    },
    {
      "cell_type": "code",
      "metadata": {
        "id": "0mVgvJyfe_Dp"
      },
      "source": [
        "#6\n",
        "#Menghitung banyak data berdasarkan kelompok tertentu \n",
        "import pandas as pd\n",
        "df = pd.read_csv(\"D:\\\\Python\\\\Drill\\\\automobile_data.csv\")\n",
        "df['company'].value_counts()"
      ],
      "execution_count": null,
      "outputs": []
    },
    {
      "cell_type": "markdown",
      "metadata": {
        "id": "0JWu0Zg79tSE"
      },
      "source": [
        "Setelah data dikelompokkan berdasarkan perusahaan, contoh program di bawah (#7) menampilkan data dengan harga tertinggi dari masing-masing kelompok (perusahaan)."
      ]
    },
    {
      "cell_type": "code",
      "metadata": {
        "id": "38Vnu5awfDF3"
      },
      "source": [
        "#7\n",
        "#Menampilkan data dengan harga tertinggi dari masing-masing kelompok (perusahaan).\n",
        "import pandas as pd\n",
        "\n",
        "df = pd.read_csv(\"D:\\\\Python\\\\Drill\\\\automobile_data.csv\")\n",
        "car_Manufacturers = df.groupby('company')\n",
        "priceDf = car_Manufacturers['company','price'].max()\n",
        "priceDf"
      ],
      "execution_count": null,
      "outputs": []
    },
    {
      "cell_type": "markdown",
      "metadata": {
        "id": "h6330vXz-BCV"
      },
      "source": [
        "Setelah data dikelompokkan berdasarkan perusahaan, contoh program di bawah (#8) menampilkan data rata-rata mile dari masing-masing kelompok perusahaan."
      ]
    },
    {
      "cell_type": "code",
      "metadata": {
        "id": "h3lOjFC-fDG9"
      },
      "source": [
        "#8\n",
        "#Menampilkan rata-rata mile dari masing-masing kelompok perusahaan\n",
        "import pandas as pd\n",
        "\n",
        "df = pd.read_csv(\"D:\\\\Python\\\\Drill\\\\automobile_data.csv\")\n",
        "car_Manufacturers = df.groupby('company')\n",
        "mileageDf = car_Manufacturers['company','average-mileage'].mean()\n",
        "mileageDf"
      ],
      "execution_count": null,
      "outputs": []
    },
    {
      "cell_type": "markdown",
      "metadata": {
        "id": "8FA6PO84-O1N"
      },
      "source": [
        "# Mengurutkan Data\n",
        "Kita dapat mengurutkan data berdasarkan nilai tertentu. \n",
        "\n",
        "Pada contoh di bawah (#9), kita urutkan data berdasarkan harga kemudian berdasarkan nilai horsepower secara mengecil."
      ]
    },
    {
      "cell_type": "code",
      "metadata": {
        "id": "9ccG6AHHfJpu"
      },
      "source": [
        "#9\n",
        "#Sort all cars by Price column\n",
        "import pandas as pd\n",
        "\n",
        "carsDf = pd.read_csv(\"D:\\\\Python\\\\Drill\\\\automobile_data.csv\")\n",
        "carsDf = carsDf.sort_values(by=['price', 'horsepower'], ascending=False)\n",
        "carsDf.head(5)"
      ],
      "execution_count": null,
      "outputs": []
    },
    {
      "cell_type": "markdown",
      "metadata": {
        "id": "O4iOSCG9-t9u"
      },
      "source": [
        "# Data Concat\n",
        "\n",
        "Dalam Pandas, kita dapat menggabungkan dua data frame dengan beberapa perintah berbeda. Pada contoh di bawah, digunakan perintah concat pada dua buah data frame yang dibuat dari dua buah dictionary. Pada contoh ini, dibuat keys berbeda untuk masing-masing data frame.\n",
        "\n",
        "Pada contoh program di bawah, digunakan concat untuk menggabungkan dua data frame secara vertikal. Artinya, data frame kedua akan ditambahkan setelah baris terakhir dari data frame pertama. Perhatikan contoh program berikut ini (#10)."
      ]
    },
    {
      "cell_type": "code",
      "metadata": {
        "id": "AvQRnuWsfNCy"
      },
      "source": [
        "#10\n",
        "#Membuat dua data frames dari dua dictionaries, melakukan concat baris dari dua data frames, dan membuat key untuk masing-masing data frame.\n",
        "import pandas as pd\n",
        "\n",
        "germanCars = {'Company': ['Ford', 'Mercedes', 'BMV', 'Audi'], 'Price': [23845, 171995, 135925 , 71400]}\n",
        "carsDf1 = pd.DataFrame.from_dict(germanCars)\n",
        "\n",
        "japaneseCars = {'Company': ['Toyota', 'Honda', 'Nissan', 'Mitsubishi '], 'Price': [29995, 23600, 61500 , 58900]}\n",
        "carsDf2 = pd.DataFrame.from_dict(japaneseCars)\n",
        "\n",
        "carsDf = pd.concat([carsDf1, carsDf2], keys=[\"Germany\", \"Japan\"])\n",
        "carsDf"
      ],
      "execution_count": null,
      "outputs": []
    },
    {
      "cell_type": "markdown",
      "metadata": {
        "id": "hjr5U2ZJA3X4"
      },
      "source": [
        "# Data Merge\n",
        "\n",
        "Seperti dikatakan sebelumnya bahwa dalam Pandas, kita dapat menggabungkan dua data frame dengan beberapa perintah berbeda. Pada contoh di bawah (#11), digunakan perintah merge untuk menggabungkan dua buah data frame yang dibuat dari dua buah dictionary. Pada contoh ini, dibuat keys berbeda untuk masing-masing data frame.\n",
        "\n",
        "Perintah merge menggabungkan dua data frame secara horizontal. Artinya, kolom pada dataframe kedua akan ditambahkan sebagai kolom baru di data frame pertama berdasarkan nilai key yang ditulis pada argumen (Pada contoh di bawah, berdasarkan nama perusahaan). Pelajari slide kuliah untuk melihat berbagai jenis tipe concat, merge, & join! "
      ]
    },
    {
      "cell_type": "code",
      "metadata": {
        "id": "SyExwAx0fSvu"
      },
      "source": [
        "#11\n",
        "#Menciptakan dua data frame dari dua dictionaries, melakukan merge keduanya untuk menambahkan data frame kedua sebagai kolom baru di data frame pertama.\n",
        "import pandas as pd\n",
        "\n",
        "car_Price = {'Company': ['Toyota', 'Honda', 'BMV', 'Audi'], 'Price': [23845, 17995, 135925 , 71400]}\n",
        "carPriceDf = pd.DataFrame.from_dict(car_Price)\n",
        "\n",
        "car_Horsepower = {'Company': ['Toyota', 'Honda', 'BMV', 'Audi'], 'horsepower': [141, 80, 182 , 160]}\n",
        "carsHorsepowerDf = pd.DataFrame.from_dict(car_Horsepower)\n",
        "\n",
        "carsDf = pd.merge(carPriceDf, carsHorsepowerDf, on=\"Company\")\n",
        "carsDf"
      ],
      "execution_count": null,
      "outputs": []
    },
    {
      "cell_type": "markdown",
      "metadata": {
        "id": "TcLA5lCGR6EL"
      },
      "source": [
        "# Tugas\n",
        "\n",
        "Dengan menggunakan dictionaries pada program #11, lakukan merge dengan perbedaan pada parameter how. Perhatikan perbedaannya!\n",
        "\n",
        "*   #12: how = 'left'\n",
        "*   #13: how = 'right'\n",
        "*   #14: how = 'outer'\n",
        "*   #15: how = 'inner'\n",
        "\n",
        "\n",
        "\n",
        "\n"
      ]
    },
    {
      "cell_type": "code",
      "metadata": {
        "id": "7lqJuE-TYudz"
      },
      "source": [
        "#12\n",
        "#Merge dictionies #11 dengan parameter how = 'left'"
      ],
      "execution_count": null,
      "outputs": []
    },
    {
      "cell_type": "code",
      "metadata": {
        "id": "O7aTOKicY6aQ"
      },
      "source": [
        "#13\n",
        "#Merge dictionies #11 dengan parameter how = 'right'"
      ],
      "execution_count": null,
      "outputs": []
    },
    {
      "cell_type": "code",
      "metadata": {
        "id": "R91W3rftY-bJ"
      },
      "source": [
        "#14\n",
        "#Merge dictionies #11 dengan parameter how = 'outer'"
      ],
      "execution_count": null,
      "outputs": []
    },
    {
      "cell_type": "code",
      "metadata": {
        "id": "1n2R0uGfZAfa"
      },
      "source": [
        "#15\n",
        "#Merge dictionies #11 dengan parameter how = 'inner'"
      ],
      "execution_count": null,
      "outputs": []
    }
  ]
}