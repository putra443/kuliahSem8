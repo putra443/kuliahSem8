{
  "nbformat": 4,
  "nbformat_minor": 0,
  "metadata": {
    "colab": {
      "provenance": []
    },
    "kernelspec": {
      "name": "python3",
      "display_name": "Python 3"
    }
  },
  "cells": [
    {
      "cell_type": "markdown",
      "metadata": {
        "id": "ckvTEtg-C7Gc"
      },
      "source": [
        "# Pengenalan Python\n",
        "\n",
        "Pada modul ini, kamu akan belajar membuat program pertama dengan Python dan mengenal Google Colab sebagai IDE yang akan dipergunakan dalam kuliah ini.\n",
        "\n",
        "**Petunjuk pengerjaan:**\n",
        "1.   Buatlah salinan project ini dengan memilih menu File - Save a Copy in Drive.\n",
        "2.   Gantilah nama filenya dengan 01aModul-**(NamaLengkap)**.ipynb\n",
        "\n",
        "**Petunjuk pengumpulan:**\n",
        "Bagikanlah project kalian pada saya, dengan menekan tombol Share/ Bagikan di kanan atas. Salin linknya, lalu kumpulkan di bagian tugas 01aModule-IntroToPython di Google Classroom.\n",
        "\n",
        "Lalu baca dan ikutilah petunjuk selanjutnya dari modul ini.\n"
      ]
    },
    {
      "cell_type": "markdown",
      "metadata": {
        "id": "c3rdcwIkFmht"
      },
      "source": [
        "Untuk memberi catatan dalam program, kamu dapat menggunakan komentar. Komentar tidak akan dijalankan dalam program. Komentar biasanya digunakan untuk menulis keterangan seperti kegunaan program, informasi seputar variabel, fungsi, dan keterangan lainnya yang perlu ditulis dalam program.\n",
        "\n",
        "Untuk menulis satu bari komentar, kamu bisa gunakan tanda '#' di awal sebuah baris, lalu diikuti dengan keterangan yang ingin kamu tulis dalam program. Perhatikan contoh program berikut ini. Coba jalankan dengan menekan tombol play (segitiga) di sebelah kiri program. \n",
        "\n",
        "Program tidak akan menghasilkan keluaran apapun, karena hanya berisi komentar."
      ]
    },
    {
      "cell_type": "code",
      "metadata": {
        "id": "v3OENjl1C33C"
      },
      "source": [
        "#Ini adalah komentar\n",
        "# Tulisan ini tidak akan dieksekusi\n",
        "\n",
        "#komentar dengan tanda pagar hanya bisa digunakan\n",
        "#untuk\n",
        "#satu\n",
        "#baris"
      ],
      "execution_count": null,
      "outputs": []
    },
    {
      "cell_type": "markdown",
      "metadata": {
        "id": "NgSK-vT7FW_4"
      },
      "source": [
        "Jika komentar (keterangan) yang ingin kamu tulis terdiri lebih dari satu baris, gunakan pasangan tanda **\"\"\"** di awal dan di akhir komentar.\n",
        "\n",
        "Perhatikan contoh kode berikut ini:"
      ]
    },
    {
      "cell_type": "code",
      "metadata": {
        "id": "L8rW-B8_HWO1"
      },
      "source": [
        "\"\"\"\n",
        "Penulisan Komentar lebih dari satu baris yaitu\n",
        "dengan menggunakan kutip dua 3 kali dan \n",
        "ditutup dengan kutip dua 3 kali juga\n",
        "\"\"\""
      ],
      "execution_count": null,
      "outputs": []
    },
    {
      "cell_type": "markdown",
      "metadata": {
        "id": "C6I5HHE6HXN0"
      },
      "source": [
        "# Mencetak Keluaran\n",
        "Seperti yang telah dijelaskan di video saya, cobalah menulis program untuk mencetak tulisan \"**Hello world!**\" sebagai keluaran program!"
      ]
    },
    {
      "cell_type": "code",
      "metadata": {
        "id": "yE0vU4YrH9RX",
        "colab": {
          "base_uri": "https://localhost:8080/"
        },
        "outputId": "33ca935e-7cc2-4e68-9419-c70611ca8bf0"
      },
      "source": [
        "#Tulis statement untuk mencetak \"Hello world!\" di bagian ini, lalu jalankan program sampai menghasilkan keluaran yang diharapkan\n",
        "print(\"Hello World\")\n"
      ],
      "execution_count": 1,
      "outputs": [
        {
          "output_type": "stream",
          "name": "stdout",
          "text": [
            "Hello World\n"
          ]
        }
      ]
    }
  ]
}